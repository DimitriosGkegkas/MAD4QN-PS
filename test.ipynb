{
 "cells": [
  {
   "cell_type": "code",
   "execution_count": 7,
   "metadata": {},
   "outputs": [],
   "source": [
    "import numpy as np\n",
    "\n",
    "# Define the file path\n",
    "file_path = 'training_stats/DuelingDDQNAgents-v1/09012025/avg_reward.npy'\n",
    "\n",
    "left = np.load('data/DuelingDDQNAgentsNoRandomLR/11022025/left.npy', allow_pickle=True).item()  # allow_pickle=True in case the file contains objects\n",
    "right = np.load('data/DuelingDDQNAgentsNoRandomLR/11022025/right.npy', allow_pickle=True).item()\n",
    "straight = np.load('data/DuelingDDQNAgentsNoRandomLR/11022025/straight.npy', allow_pickle=True).item()\n",
    "\n",
    "total = np.load('data/DuelingDDQNAgentsNoRandomLR/11022025/total.npy', allow_pickle=True).item()\n",
    "\n",
    "raw_data = np.load('data/DuelingDDQNAgentsNoRandomLR/11022025/raw_data.npy', allow_pickle=True)\n"
   ]
  },
  {
   "cell_type": "code",
   "execution_count": 3,
   "metadata": {},
   "outputs": [],
   "source": [
    "import numpy as np\n",
    "data = np.load('training_stats/DuelingDDQNAgents/23012025/avg_reward_per_scenario.npy', allow_pickle=True)"
   ]
  },
  {
   "cell_type": "code",
   "execution_count": 19,
   "metadata": {},
   "outputs": [],
   "source": [
    "hi = {\n",
    "    \"1\": \"leme1\",\n",
    "    \"2\": \"leme2\",\n",
    "    \"3\": \"leme3\"\n",
    "}"
   ]
  },
  {
   "cell_type": "code",
   "execution_count": 6,
   "metadata": {},
   "outputs": [
    {
     "data": {
      "image/png": "[encoded data removed]",
      "text/plain": [
       "<Figure size 640x480 with 1 Axes>"
      ]
     },
     "metadata": {},
     "output_type": "display_data"
    }
   ],
   "source": [
    "import matplotlib.pyplot as plt\n",
    "\n",
    "# Assuming p is your RGB image as a NumPy array\n",
    "plt.imshow(p)\n",
    "plt.axis('off')  # Hide axes for better visualization\n",
    "plt.show()\n"
   ]
  },
  {
   "cell_type": "code",
   "execution_count": 2,
   "metadata": {},
   "outputs": [
    {
     "name": "stdout",
     "output_type": "stream",
     "text": [
      "Copied 'scenarios/sumo/multi_scenario/0' to 'scenarios/sumo/multi_scenario/1'\n",
      "Copied 'scenarios/sumo/multi_scenario/0' to 'scenarios/sumo/multi_scenario/2'\n",
      "Copied 'scenarios/sumo/multi_scenario/0' to 'scenarios/sumo/multi_scenario/3'\n",
      "Copied 'scenarios/sumo/multi_scenario/0' to 'scenarios/sumo/multi_scenario/4'\n",
      "Copied 'scenarios/sumo/multi_scenario/0' to 'scenarios/sumo/multi_scenario/5'\n",
      "Copied 'scenarios/sumo/multi_scenario/0' to 'scenarios/sumo/multi_scenario/6'\n",
      "Copied 'scenarios/sumo/multi_scenario/0' to 'scenarios/sumo/multi_scenario/7'\n",
      "Copied 'scenarios/sumo/multi_scenario/0' to 'scenarios/sumo/multi_scenario/8'\n",
      "Copied 'scenarios/sumo/multi_scenario/0' to 'scenarios/sumo/multi_scenario/9'\n",
      "Copied 'scenarios/sumo/multi_scenario/0' to 'scenarios/sumo/multi_scenario/10'\n",
      "Copied 'scenarios/sumo/multi_scenario/0' to 'scenarios/sumo/multi_scenario/11'\n",
      "Copied 'scenarios/sumo/multi_scenario/0' to 'scenarios/sumo/multi_scenario/12'\n",
      "Copied 'scenarios/sumo/multi_scenario/0' to 'scenarios/sumo/multi_scenario/13'\n",
      "Copied 'scenarios/sumo/multi_scenario/0' to 'scenarios/sumo/multi_scenario/14'\n",
      "Copied 'scenarios/sumo/multi_scenario/0' to 'scenarios/sumo/multi_scenario/15'\n",
      "Copied 'scenarios/sumo/multi_scenario/0' to 'scenarios/sumo/multi_scenario/16'\n",
      "Copied 'scenarios/sumo/multi_scenario/0' to 'scenarios/sumo/multi_scenario/17'\n",
      "Copied 'scenarios/sumo/multi_scenario/0' to 'scenarios/sumo/multi_scenario/18'\n",
      "Copied 'scenarios/sumo/multi_scenario/0' to 'scenarios/sumo/multi_scenario/19'\n",
      "Copied 'scenarios/sumo/multi_scenario/0' to 'scenarios/sumo/multi_scenario/20'\n",
      "Copied 'scenarios/sumo/multi_scenario/0' to 'scenarios/sumo/multi_scenario/21'\n",
      "Copied 'scenarios/sumo/multi_scenario/0' to 'scenarios/sumo/multi_scenario/22'\n",
      "Copied 'scenarios/sumo/multi_scenario/0' to 'scenarios/sumo/multi_scenario/23'\n",
      "Copied 'scenarios/sumo/multi_scenario/0' to 'scenarios/sumo/multi_scenario/24'\n",
      "Copied 'scenarios/sumo/multi_scenario/0' to 'scenarios/sumo/multi_scenario/25'\n",
      "Copied 'scenarios/sumo/multi_scenario/0' to 'scenarios/sumo/multi_scenario/26'\n",
      "Copied 'scenarios/sumo/multi_scenario/0' to 'scenarios/sumo/multi_scenario/27'\n",
      "Copied 'scenarios/sumo/multi_scenario/0' to 'scenarios/sumo/multi_scenario/28'\n",
      "Copied 'scenarios/sumo/multi_scenario/0' to 'scenarios/sumo/multi_scenario/29'\n",
      "Copied 'scenarios/sumo/multi_scenario/0' to 'scenarios/sumo/multi_scenario/30'\n",
      "Copied 'scenarios/sumo/multi_scenario/0' to 'scenarios/sumo/multi_scenario/31'\n",
      "Copied 'scenarios/sumo/multi_scenario/0' to 'scenarios/sumo/multi_scenario/32'\n",
      "Copied 'scenarios/sumo/multi_scenario/0' to 'scenarios/sumo/multi_scenario/33'\n",
      "Copied 'scenarios/sumo/multi_scenario/0' to 'scenarios/sumo/multi_scenario/34'\n",
      "Copied 'scenarios/sumo/multi_scenario/0' to 'scenarios/sumo/multi_scenario/35'\n",
      "Copied 'scenarios/sumo/multi_scenario/0' to 'scenarios/sumo/multi_scenario/36'\n",
      "Copied 'scenarios/sumo/multi_scenario/0' to 'scenarios/sumo/multi_scenario/37'\n",
      "Copied 'scenarios/sumo/multi_scenario/0' to 'scenarios/sumo/multi_scenario/38'\n",
      "Copied 'scenarios/sumo/multi_scenario/0' to 'scenarios/sumo/multi_scenario/39'\n",
      "Copied 'scenarios/sumo/multi_scenario/0' to 'scenarios/sumo/multi_scenario/40'\n",
      "Copied 'scenarios/sumo/multi_scenario/0' to 'scenarios/sumo/multi_scenario/41'\n",
      "Copied 'scenarios/sumo/multi_scenario/0' to 'scenarios/sumo/multi_scenario/42'\n",
      "Copied 'scenarios/sumo/multi_scenario/0' to 'scenarios/sumo/multi_scenario/43'\n",
      "Copied 'scenarios/sumo/multi_scenario/0' to 'scenarios/sumo/multi_scenario/44'\n",
      "Copied 'scenarios/sumo/multi_scenario/0' to 'scenarios/sumo/multi_scenario/45'\n",
      "Copied 'scenarios/sumo/multi_scenario/0' to 'scenarios/sumo/multi_scenario/46'\n",
      "Copied 'scenarios/sumo/multi_scenario/0' to 'scenarios/sumo/multi_scenario/47'\n",
      "Copied 'scenarios/sumo/multi_scenario/0' to 'scenarios/sumo/multi_scenario/48'\n",
      "Copied 'scenarios/sumo/multi_scenario/0' to 'scenarios/sumo/multi_scenario/49'\n",
      "Copied 'scenarios/sumo/multi_scenario/0' to 'scenarios/sumo/multi_scenario/50'\n",
      "Copied 'scenarios/sumo/multi_scenario/0' to 'scenarios/sumo/multi_scenario/51'\n",
      "Copied 'scenarios/sumo/multi_scenario/0' to 'scenarios/sumo/multi_scenario/52'\n",
      "Copied 'scenarios/sumo/multi_scenario/0' to 'scenarios/sumo/multi_scenario/53'\n",
      "Copied 'scenarios/sumo/multi_scenario/0' to 'scenarios/sumo/multi_scenario/54'\n",
      "Copied 'scenarios/sumo/multi_scenario/0' to 'scenarios/sumo/multi_scenario/55'\n",
      "Copied 'scenarios/sumo/multi_scenario/0' to 'scenarios/sumo/multi_scenario/56'\n",
      "Copied 'scenarios/sumo/multi_scenario/0' to 'scenarios/sumo/multi_scenario/57'\n",
      "Copied 'scenarios/sumo/multi_scenario/0' to 'scenarios/sumo/multi_scenario/58'\n",
      "Copied 'scenarios/sumo/multi_scenario/0' to 'scenarios/sumo/multi_scenario/59'\n",
      "Copied 'scenarios/sumo/multi_scenario/0' to 'scenarios/sumo/multi_scenario/60'\n",
      "Copied 'scenarios/sumo/multi_scenario/0' to 'scenarios/sumo/multi_scenario/61'\n",
      "Copied 'scenarios/sumo/multi_scenario/0' to 'scenarios/sumo/multi_scenario/62'\n",
      "Copied 'scenarios/sumo/multi_scenario/0' to 'scenarios/sumo/multi_scenario/63'\n",
      "Copied 'scenarios/sumo/multi_scenario/0' to 'scenarios/sumo/multi_scenario/64'\n",
      "Copied 'scenarios/sumo/multi_scenario/0' to 'scenarios/sumo/multi_scenario/65'\n",
      "Copied 'scenarios/sumo/multi_scenario/0' to 'scenarios/sumo/multi_scenario/66'\n",
      "Copied 'scenarios/sumo/multi_scenario/0' to 'scenarios/sumo/multi_scenario/67'\n",
      "Copied 'scenarios/sumo/multi_scenario/0' to 'scenarios/sumo/multi_scenario/68'\n",
      "Copied 'scenarios/sumo/multi_scenario/0' to 'scenarios/sumo/multi_scenario/69'\n",
      "Copied 'scenarios/sumo/multi_scenario/0' to 'scenarios/sumo/multi_scenario/70'\n",
      "Copied 'scenarios/sumo/multi_scenario/0' to 'scenarios/sumo/multi_scenario/71'\n",
      "Copied 'scenarios/sumo/multi_scenario/0' to 'scenarios/sumo/multi_scenario/72'\n",
      "Copied 'scenarios/sumo/multi_scenario/0' to 'scenarios/sumo/multi_scenario/73'\n",
      "Copied 'scenarios/sumo/multi_scenario/0' to 'scenarios/sumo/multi_scenario/74'\n",
      "Copied 'scenarios/sumo/multi_scenario/0' to 'scenarios/sumo/multi_scenario/75'\n",
      "Copied 'scenarios/sumo/multi_scenario/0' to 'scenarios/sumo/multi_scenario/76'\n",
      "Copied 'scenarios/sumo/multi_scenario/0' to 'scenarios/sumo/multi_scenario/77'\n",
      "Copied 'scenarios/sumo/multi_scenario/0' to 'scenarios/sumo/multi_scenario/78'\n",
      "Copied 'scenarios/sumo/multi_scenario/0' to 'scenarios/sumo/multi_scenario/79'\n",
      "Copied 'scenarios/sumo/multi_scenario/0' to 'scenarios/sumo/multi_scenario/80'\n",
      "Copying completed.\n"
     ]
    }
   ],
   "source": [
    "import os\n",
    "import shutil\n",
    "\n",
    "# Define the source and destination folders\n",
    "source_folder = \"scenarios/sumo/multi_scenario/0\"\n",
    "destination_base = \"scenarios/sumo/multi_scenario\"\n",
    "\n",
    "# Ensure the source folder exists\n",
    "if not os.path.exists(source_folder):\n",
    "    raise FileNotFoundError(f\"Source folder '{source_folder}' does not exist.\")\n",
    "\n",
    "# Create the destination base folder if it doesn't exist\n",
    "if not os.path.exists(destination_base):\n",
    "    os.makedirs(destination_base)\n",
    "\n",
    "# Copy the source folder into the destination with indexes from 1 to 80\n",
    "for i in range(1, 81):\n",
    "    destination_folder = os.path.join(destination_base, str(i))\n",
    "    \n",
    "    if os.path.exists(destination_folder):\n",
    "        print(f\"Skipping '{destination_folder}' as it already exists.\")\n",
    "        continue\n",
    "    \n",
    "    shutil.copytree(source_folder, destination_folder)\n",
    "    print(f\"Copied '{source_folder}' to '{destination_folder}'\")\n",
    "\n",
    "print(\"Copying completed.\")"
   ]
  },
  {
   "cell_type": "code",
   "execution_count": null,
   "metadata": {},
   "outputs": [],
   "source": []
  }
 ],
 "metadata": {
  "kernelspec": {
   "display_name": "base",
   "language": "python",
   "name": "python3"
  },
  "language_info": {
   "codemirror_mode": {
    "name": "ipython",
    "version": 3
   },
   "file_extension": ".py",
   "mimetype": "text/x-python",
   "name": "python",
   "nbconvert_exporter": "python",
   "pygments_lexer": "ipython3",
   "version": "3.12.4"
  }
 },
 "nbformat": 4,
 "nbformat_minor": 2
}
